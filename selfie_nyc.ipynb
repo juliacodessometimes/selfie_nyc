{
 "cells": [
  {
   "cell_type": "code",
   "execution_count": 1,
   "metadata": {},
   "outputs": [],
   "source": [
    "import requests\n",
    "from bs4 import BeautifulSoup, Comment\n",
    "\n",
    "import json\n",
    "from geojson import Feature, FeatureCollection, Point, dump\n",
    "import pandas as pd"
   ]
  },
  {
   "cell_type": "markdown",
   "metadata": {},
   "source": [
    "# SELFIE_NYC --- Scraping the NYC DOT Website\n",
    "\n",
    "The purpose of this project was to insert myself into the NYC DOT live traffic camera \"database\" by creating an app that would allow you to take a traffic cam \"selfie\" and save it to your phone.\n",
    "\n",
    "All data in this file was scraped from the NYC DOT website located here https://webcams.nyctmc.org/\n",
    "\n",
    "Since different aspects of the cameras are split up in different parts of the website, I scraped a few urls in order to piece together the final dataset. The urls I used for scraping are saved as variables below:"
   ]
  },
  {
   "cell_type": "code",
   "execution_count": 2,
   "metadata": {},
   "outputs": [],
   "source": [
    "# url variables\n",
    "\n",
    "# webpage with the list of all cameras\n",
    "alllist_url = 'https://webcams.nyctmc.org/multiview2.php'\n",
    "# the webpage containing json data where the map data is stored for all cameras\n",
    "map_url = 'https://webcams.nyctmc.org/new-data.php?query='\n",
    "# the partial link from the above page to the individual camera page containing the live feed\n",
    "camlist_url = 'https://webcams.nyctmc.org/multiview2.php?listcam='"
   ]
  },
  {
   "cell_type": "markdown",
   "metadata": {},
   "source": [
    "### 1. Getting All Active Camera Names and Numbers\n",
    "\n",
    "In this section, I am scraping the DOT website to get the locations or \"names\" of each camera and their associated number. This number will later be used to access the individual url that hosts the feed for that camera.\n",
    "\n",
    "The webpage I'm scraping in this section shows a table where users may view the feed for one or multiple cameras by checking the box next to the camera name and clicking the \"View\" button."
   ]
  },
  {
   "cell_type": "code",
   "execution_count": 3,
   "metadata": {},
   "outputs": [],
   "source": [
    "# scraping the 'list camera' page\n",
    "response = requests.get(alllist_url)\n",
    "doc_all = BeautifulSoup(response.text, 'html.parser')"
   ]
  },
  {
   "cell_type": "markdown",
   "metadata": {},
   "source": [
    "Scrolling through the page, there appear to be a few camera names without a checkbox next to them that instead say \"Inactive\". A comment found in the html mentions the number of total cameras, number of active cameras, and number of inactive cameras. This stats comment appears to get updated as along with the actual number of available feeds."
   ]
  },
  {
   "cell_type": "code",
   "execution_count": 4,
   "metadata": {},
   "outputs": [
    {
     "name": "stdout",
     "output_type": "stream",
     "text": [
      "Stats\n",
      "\n",
      "Total Cameras: 756Active Cameras: 699Inactive Cameras: 57\n"
     ]
    }
   ],
   "source": [
    "# gathering all the comments from the 'list camera' page\n",
    "comments = doc_all.find_all(text=lambda text:isinstance(text, Comment))\n",
    "\n",
    "# finding and printing the 'stats' comment\n",
    "for comment in comments:\n",
    "    text_strip = comment.strip()\n",
    "    text_html = BeautifulSoup(comment, 'html.parser')\n",
    "    total_comment = text_html.find_all('td')\n",
    "    for string in total_comment:\n",
    "        print(string.text)"
   ]
  },
  {
   "cell_type": "markdown",
   "metadata": {},
   "source": [
    "The total number of camera attributes collected from the same page below should match the number of cameras noted in the comment above. It appears that the actual number of cameras (in addition to the number of \"active\" feeds changes day to day. Unfortunately this means that regular scraping will be necessary in order to maintain an accurately updated list of functioning camera feeds."
   ]
  },
  {
   "cell_type": "code",
   "execution_count": 5,
   "metadata": {},
   "outputs": [
    {
     "data": {
      "text/plain": [
       "756"
      ]
     },
     "execution_count": 5,
     "metadata": {},
     "output_type": "execute_result"
    }
   ],
   "source": [
    "# getting all attributes (names and numbers) for all  cameras listed\n",
    "cam_attr = doc_all.find_all('tr', id = 'repCam__ctl0_trCam')\n",
    "\n",
    "len(cam_attr)"
   ]
  },
  {
   "cell_type": "markdown",
   "metadata": {},
   "source": [
    "The below output shows the raw html data associated with a 2 different cameras. In the first, the camera name as it appears on the original webpage is \"1 Ave @ 110 St\", and the camera number is under \"value = '368'\". The second camera \"10 Ave @ 42 St\" does not have a checkbox and is therefore missing the \"input\" element. Instead, the box just shows text saying \"Inactive\"."
   ]
  },
  {
   "cell_type": "code",
   "execution_count": 6,
   "metadata": {},
   "outputs": [
    {
     "data": {
      "text/plain": [
       "<tr bgcolor=\"#E6E6E7\" id=\"repCam__ctl0_trCam\">\n",
       "<td align=\"right\" class=\"OTopTitle\" height=\"25\" id=\"repCam__ctl0_lbNum\" width=\"15\">\n",
       "<input id=\"id[]\" name=\"id[]\" onclick=\"check_count(this)\" type=\"checkbox\" value=\"368\"/>\n",
       "</td>\n",
       "<td width=\"235\">\n",
       "<span class=\"OTopTitle\">1 Ave @ 110 St</span>\n",
       "</td>\n",
       "</tr>"
      ]
     },
     "execution_count": 6,
     "metadata": {},
     "output_type": "execute_result"
    }
   ],
   "source": [
    "cam_attr[0]"
   ]
  },
  {
   "cell_type": "code",
   "execution_count": 7,
   "metadata": {},
   "outputs": [
    {
     "data": {
      "text/plain": [
       "<tr bgcolor=\"#E6E6E7\" id=\"repCam__ctl0_trCam\">\n",
       "<td align=\"right\" class=\"OTopTitle\" height=\"25\" id=\"repCam__ctl0_lbNum\" width=\"15\">\n",
       "\t\t\tInactive\t\t\t\t\t\t\t\t\t\t\t\t\t\t\t\t\t</td>\n",
       "<td width=\"235\">\n",
       "<span class=\"OTopTitle\">10 Ave @ 42 St</span>\n",
       "</td>\n",
       "</tr>"
      ]
     },
     "execution_count": 7,
     "metadata": {},
     "output_type": "execute_result"
    }
   ],
   "source": [
    "cam_attr[11]"
   ]
  },
  {
   "cell_type": "markdown",
   "metadata": {},
   "source": [
    "Since I'm not sure when these cameras may become listed/active and therefore scrapable, I don't want to drop them entirely from the final list. Below I collect all listed camera names and id numbers in a json format. Cameras that do not have a displayed number will show up as \"inactive\" and will be filtered out later before the feeds are scraped."
   ]
  },
  {
   "cell_type": "code",
   "execution_count": 8,
   "metadata": {},
   "outputs": [
    {
     "data": {
      "text/plain": [
       "756"
      ]
     },
     "execution_count": 8,
     "metadata": {},
     "output_type": "execute_result"
    }
   ],
   "source": [
    "# collecting all camera names and numbers into a json format\n",
    "cam_list = []\n",
    "\n",
    "for cam in cam_attr:\n",
    "    item = {}\n",
    "    # getting just camera name\n",
    "    name = cam.find('span', class_ ='OTopTitle')\n",
    "    item['name'] = name.text\n",
    "    # checking for an input element to get camera number\n",
    "    num = cam.find('input')\n",
    "    # getting camera number\n",
    "    if num != None:\n",
    "        item['num'] = num.attrs['value']\n",
    "    # for cameras without feeds, put \"inactive\"\n",
    "    else:\n",
    "        item['num'] = 'inactive'\n",
    "    \n",
    "    cam_list.append(item)\n",
    "\n",
    "# total number of listed cameras (including active and inactive)\n",
    "len(cam_list)"
   ]
  },
  {
   "cell_type": "code",
   "execution_count": 9,
   "metadata": {},
   "outputs": [
    {
     "data": {
      "text/plain": [
       "{'name': '1 Ave @ 110 St', 'num': '368'}"
      ]
     },
     "execution_count": 9,
     "metadata": {},
     "output_type": "execute_result"
    }
   ],
   "source": [
    "cam_list[0]"
   ]
  },
  {
   "cell_type": "code",
   "execution_count": 10,
   "metadata": {},
   "outputs": [
    {
     "data": {
      "text/plain": [
       "{'name': '10 Ave @ 42 St', 'num': 'inactive'}"
      ]
     },
     "execution_count": 10,
     "metadata": {},
     "output_type": "execute_result"
    }
   ],
   "source": [
    "cam_list[11]"
   ]
  },
  {
   "cell_type": "markdown",
   "metadata": {},
   "source": [
    "Above are two examples of the final dataset to be used for scraping the camera feeds. At this point, this is all the data required in order to continue on to scraping the actual images for every camera feed. However, since the NYC DOT website has also provided a map showing the locations of all cameras, I decided to scrape this as well for lat/long coordinates so that users can locate cameras on a map."
   ]
  },
  {
   "cell_type": "markdown",
   "metadata": {},
   "source": [
    "### 2. Getting the Map Coordinates for all Camera Locations\n",
    "\n",
    "Interestingly, the map that DOT provides does not necessarily show the locations of all cameras listed on the \"camera list\" page. The coordinates, names, and id numbers for the cameras that are shown can be scraped from the url that is queried when the page is refreshed."
   ]
  },
  {
   "cell_type": "code",
   "execution_count": 11,
   "metadata": {},
   "outputs": [
    {
     "data": {
      "text/plain": [
       "750"
      ]
     },
     "execution_count": 11,
     "metadata": {},
     "output_type": "execute_result"
    }
   ],
   "source": [
    "# scraping the json page that is requested when the map loads\n",
    "json_data = requests.get(map_url).json()\n",
    "markers_list = json_data['markers']\n",
    "\n",
    "# total number of listed markers\n",
    "len(markers_list)"
   ]
  },
  {
   "cell_type": "markdown",
   "metadata": {},
   "source": [
    "The marker data in the marker json file seems to match up with the the camera names and ids that were scraped above, even though some cameras are missing. This will matching the cameras in the larger dataset with the smaller one way easier."
   ]
  },
  {
   "cell_type": "code",
   "execution_count": 12,
   "metadata": {},
   "outputs": [
    {
     "data": {
      "text/plain": [
       "{'id': '368',\n",
       " 'latitude': '40.79142677512476',\n",
       " 'longitude': '-73.93807411193848',\n",
       " 'title': 'images/camera1.png',\n",
       " 'icon': 'images/camera1.png',\n",
       " 'content': '1 Ave @ 110 St'}"
      ]
     },
     "execution_count": 12,
     "metadata": {},
     "output_type": "execute_result"
    }
   ],
   "source": [
    "markers_list[0]"
   ]
  },
  {
   "cell_type": "code",
   "execution_count": 13,
   "metadata": {},
   "outputs": [
    {
     "data": {
      "text/plain": [
       "{'name': '1 Ave @ 110 St', 'num': '368'}"
      ]
     },
     "execution_count": 13,
     "metadata": {},
     "output_type": "execute_result"
    }
   ],
   "source": [
    "cam_list[0]"
   ]
  },
  {
   "cell_type": "code",
   "execution_count": 14,
   "metadata": {},
   "outputs": [
    {
     "data": {
      "text/html": [
       "<div>\n",
       "<style scoped>\n",
       "    .dataframe tbody tr th:only-of-type {\n",
       "        vertical-align: middle;\n",
       "    }\n",
       "\n",
       "    .dataframe tbody tr th {\n",
       "        vertical-align: top;\n",
       "    }\n",
       "\n",
       "    .dataframe thead th {\n",
       "        text-align: right;\n",
       "    }\n",
       "</style>\n",
       "<table border=\"1\" class=\"dataframe\">\n",
       "  <thead>\n",
       "    <tr style=\"text-align: right;\">\n",
       "      <th></th>\n",
       "      <th>id</th>\n",
       "      <th>latitude</th>\n",
       "      <th>longitude</th>\n",
       "      <th>name</th>\n",
       "    </tr>\n",
       "  </thead>\n",
       "  <tbody>\n",
       "    <tr>\n",
       "      <td>0</td>\n",
       "      <td>368</td>\n",
       "      <td>40.79142677512476</td>\n",
       "      <td>-73.93807411193848</td>\n",
       "      <td>1 Ave @ 110 St</td>\n",
       "    </tr>\n",
       "    <tr>\n",
       "      <td>1</td>\n",
       "      <td>360</td>\n",
       "      <td>40.800426144169315</td>\n",
       "      <td>-73.93155097961426</td>\n",
       "      <td>1 Ave @ 124 St</td>\n",
       "    </tr>\n",
       "    <tr>\n",
       "      <td>2</td>\n",
       "      <td>1189</td>\n",
       "      <td>40.731361</td>\n",
       "      <td>-73.982486</td>\n",
       "      <td>1 Ave @ 14 St</td>\n",
       "    </tr>\n",
       "    <tr>\n",
       "      <td>3</td>\n",
       "      <td>361</td>\n",
       "      <td>40.7359741672444</td>\n",
       "      <td>-73.97828578948975</td>\n",
       "      <td>1 Ave @ 23 St</td>\n",
       "    </tr>\n",
       "    <tr>\n",
       "      <td>4</td>\n",
       "      <td>550</td>\n",
       "      <td>40.74803725830298</td>\n",
       "      <td>-73.9694881439209</td>\n",
       "      <td>1 Ave @ 42 St</td>\n",
       "    </tr>\n",
       "  </tbody>\n",
       "</table>\n",
       "</div>"
      ],
      "text/plain": [
       "     id            latitude           longitude            name\n",
       "0   368   40.79142677512476  -73.93807411193848  1 Ave @ 110 St\n",
       "1   360  40.800426144169315  -73.93155097961426  1 Ave @ 124 St\n",
       "2  1189           40.731361          -73.982486   1 Ave @ 14 St\n",
       "3   361    40.7359741672444  -73.97828578948975   1 Ave @ 23 St\n",
       "4   550   40.74803725830298   -73.9694881439209   1 Ave @ 42 St"
      ]
     },
     "execution_count": 14,
     "metadata": {},
     "output_type": "execute_result"
    }
   ],
   "source": [
    "# using pandas to merge the two datasets\n",
    "cam_df = pd.DataFrame(cam_list, columns=['name', 'num'])\n",
    "markers_df = pd.DataFrame(markers_list, columns=['id', 'latitude', 'longitude', 'title', 'icon', 'content'])\n",
    "\n",
    "# creating a 'key' column in both databases\n",
    "cam_df['key'] = cam_df['name'] + cam_df['num']\n",
    "markers_df['key'] = markers_df['content'] + markers_df['id']\n",
    "\n",
    "# merging the two datasets and filtering out unmatched cams\n",
    "all_df = pd.merge(markers_df, cam_df, how = 'left', on='key')\n",
    "filter_df = all_df.loc[all_df['id'] == all_df['num']]\n",
    "filter_df = filter_df.drop(['title', 'key', 'content', 'icon', 'num'], axis = 1)\n",
    "\n",
    "filter_df.head()"
   ]
  },
  {
   "cell_type": "markdown",
   "metadata": {},
   "source": [
    "### 3. Grabbing the Traffic Camera Still"
   ]
  },
  {
   "cell_type": "code",
   "execution_count": 15,
   "metadata": {},
   "outputs": [],
   "source": [
    "# getting a list from the final pandas dataframe\n",
    "id_list = filter_df['id'].tolist()"
   ]
  },
  {
   "cell_type": "code",
   "execution_count": 16,
   "metadata": {},
   "outputs": [
    {
     "data": {
      "text/plain": [
       "694"
      ]
     },
     "execution_count": 16,
     "metadata": {},
     "output_type": "execute_result"
    }
   ],
   "source": [
    "# this list will hold all the scraped webpages with active camera feeds\n",
    "url_list = []\n",
    "\n",
    "# scraping the individual camera webpages\n",
    "for num in id_list:\n",
    "    item = {}\n",
    "    # going to the individual camera page\n",
    "    response = requests.get(camlist_url + num)\n",
    "    # grabbing the html from each page\n",
    "    doc = BeautifulSoup(response.text, 'html.parser')\n",
    "    item['id'] = num\n",
    "    item['doc'] = doc\n",
    "    \n",
    "    url_list.append(item)\n",
    "\n",
    "# final list of all html text for each camera page\n",
    "len(url_list)"
   ]
  },
  {
   "cell_type": "markdown",
   "metadata": {},
   "source": [
    "The final step "
   ]
  },
  {
   "cell_type": "code",
   "execution_count": 17,
   "metadata": {},
   "outputs": [
    {
     "data": {
      "text/plain": [
       "'https://jpg.nyctmc.org/cctv261.jpg'"
      ]
     },
     "execution_count": 17,
     "metadata": {},
     "output_type": "execute_result"
    }
   ],
   "source": [
    "# looping through the list to pull the url for each camera feed\n",
    "for cam in url_list:\n",
    "    # searching for the image on each page where \"alt\" tag is the same as the camera id number\n",
    "    img_tags = cam['doc'].find('img', alt = cam['id'])\n",
    "    # isolating the url where the feed is stored\n",
    "    img_link = img_tags.get('src')\n",
    "    # adding url to the dataset\n",
    "    cam['url'] = img_link\n",
    "    cam['icon'] = 'assets/camera.png'\n",
    "\n",
    "# taking a peek at the first url in the list\n",
    "url_list[0]['url']"
   ]
  },
  {
   "cell_type": "markdown",
   "metadata": {},
   "source": [
    "Going to the URL above shows an isolated frame from the camera feed for the first camera in the dataset. Every time the page is refreshed the image is updated, meaning that the feed urls will only need to be scraped when there is a change with the number of camera that are being serviced."
   ]
  },
  {
   "cell_type": "code",
   "execution_count": 18,
   "metadata": {},
   "outputs": [
    {
     "data": {
      "text/html": [
       "<div>\n",
       "<style scoped>\n",
       "    .dataframe tbody tr th:only-of-type {\n",
       "        vertical-align: middle;\n",
       "    }\n",
       "\n",
       "    .dataframe tbody tr th {\n",
       "        vertical-align: top;\n",
       "    }\n",
       "\n",
       "    .dataframe thead th {\n",
       "        text-align: right;\n",
       "    }\n",
       "</style>\n",
       "<table border=\"1\" class=\"dataframe\">\n",
       "  <thead>\n",
       "    <tr style=\"text-align: right;\">\n",
       "      <th></th>\n",
       "      <th>id</th>\n",
       "      <th>latitude</th>\n",
       "      <th>longitude</th>\n",
       "      <th>name</th>\n",
       "      <th>url</th>\n",
       "      <th>icon</th>\n",
       "    </tr>\n",
       "  </thead>\n",
       "  <tbody>\n",
       "    <tr>\n",
       "      <td>0</td>\n",
       "      <td>368</td>\n",
       "      <td>40.79142677512476</td>\n",
       "      <td>-73.93807411193848</td>\n",
       "      <td>1 Ave @ 110 St</td>\n",
       "      <td>https://jpg.nyctmc.org/cctv261.jpg</td>\n",
       "      <td>assets/camera.png</td>\n",
       "    </tr>\n",
       "    <tr>\n",
       "      <td>1</td>\n",
       "      <td>360</td>\n",
       "      <td>40.800426144169315</td>\n",
       "      <td>-73.93155097961426</td>\n",
       "      <td>1 Ave @ 124 St</td>\n",
       "      <td>https://jpg.nyctmc.org/cctv254.jpg</td>\n",
       "      <td>assets/camera.png</td>\n",
       "    </tr>\n",
       "    <tr>\n",
       "      <td>2</td>\n",
       "      <td>1189</td>\n",
       "      <td>40.731361</td>\n",
       "      <td>-73.982486</td>\n",
       "      <td>1 Ave @ 14 St</td>\n",
       "      <td>https://jpg.nyctmc.org/cctv1083.jpg</td>\n",
       "      <td>assets/camera.png</td>\n",
       "    </tr>\n",
       "    <tr>\n",
       "      <td>3</td>\n",
       "      <td>361</td>\n",
       "      <td>40.7359741672444</td>\n",
       "      <td>-73.97828578948975</td>\n",
       "      <td>1 Ave @ 23 St</td>\n",
       "      <td>https://jpg.nyctmc.org/cctv253.jpg</td>\n",
       "      <td>assets/camera.png</td>\n",
       "    </tr>\n",
       "    <tr>\n",
       "      <td>4</td>\n",
       "      <td>550</td>\n",
       "      <td>40.74803725830298</td>\n",
       "      <td>-73.9694881439209</td>\n",
       "      <td>1 Ave @ 42 St</td>\n",
       "      <td>https://jpg.nyctmc.org/cctv490.jpg</td>\n",
       "      <td>assets/camera.png</td>\n",
       "    </tr>\n",
       "  </tbody>\n",
       "</table>\n",
       "</div>"
      ],
      "text/plain": [
       "     id            latitude           longitude            name  \\\n",
       "0   368   40.79142677512476  -73.93807411193848  1 Ave @ 110 St   \n",
       "1   360  40.800426144169315  -73.93155097961426  1 Ave @ 124 St   \n",
       "2  1189           40.731361          -73.982486   1 Ave @ 14 St   \n",
       "3   361    40.7359741672444  -73.97828578948975   1 Ave @ 23 St   \n",
       "4   550   40.74803725830298   -73.9694881439209   1 Ave @ 42 St   \n",
       "\n",
       "                                   url               icon  \n",
       "0   https://jpg.nyctmc.org/cctv261.jpg  assets/camera.png  \n",
       "1   https://jpg.nyctmc.org/cctv254.jpg  assets/camera.png  \n",
       "2  https://jpg.nyctmc.org/cctv1083.jpg  assets/camera.png  \n",
       "3   https://jpg.nyctmc.org/cctv253.jpg  assets/camera.png  \n",
       "4   https://jpg.nyctmc.org/cctv490.jpg  assets/camera.png  "
      ]
     },
     "execution_count": 18,
     "metadata": {},
     "output_type": "execute_result"
    }
   ],
   "source": [
    "# getting url data into a pandas dataframe\n",
    "url_df = pd.DataFrame(url_list, columns=['id', 'doc', 'url', 'icon'])\n",
    "\n",
    "# merging into the final dataset\n",
    "final_df = pd.merge(filter_df, url_df, how = 'left', on='id')\n",
    "final_df = final_df.drop(['doc'], axis = 1)\n",
    "\n",
    "final_df.head()"
   ]
  },
  {
   "cell_type": "code",
   "execution_count": 19,
   "metadata": {},
   "outputs": [],
   "source": [
    "# saving df as a dictionary\n",
    "final_dict = final_df.to_dict('records')"
   ]
  },
  {
   "cell_type": "code",
   "execution_count": 20,
   "metadata": {},
   "outputs": [
    {
     "data": {
      "text/plain": [
       "694"
      ]
     },
     "execution_count": 20,
     "metadata": {},
     "output_type": "execute_result"
    }
   ],
   "source": [
    "# building the geojson file\n",
    "features = []\n",
    "# looping through the dictionary holding all camera data\n",
    "for cam in final_dict:\n",
    "    geometry = {}\n",
    "    geometry['type'] = 'Point'\n",
    "    geometry['coordinates'] = [float(cam['longitude']), float(cam['latitude'])]\n",
    "    \n",
    "    properties = {}\n",
    "    properties['id'] = cam['id']\n",
    "    properties['name'] = cam['name']\n",
    "    properties['url'] = cam['url']\n",
    "    properties['icon'] = cam['icon']\n",
    "    \n",
    "    # building the geojson structure and adding cam data to it\n",
    "    item = {}\n",
    "    item['geometry'] = geometry\n",
    "    item['type'] = 'Feature'\n",
    "    item['properties'] = properties\n",
    "    features.append(item)\n",
    "\n",
    "len(features)"
   ]
  },
  {
   "cell_type": "markdown",
   "metadata": {},
   "source": [
    "The final count for all available camera feeds is shown above. Below is an example of one camera feature from the geojson data. After the data is exported as a geojson file, users will be able to click on the icons displayed on the map to access each of the camera feeds."
   ]
  },
  {
   "cell_type": "code",
   "execution_count": 21,
   "metadata": {},
   "outputs": [
    {
     "data": {
      "text/plain": [
       "{'geometry': {'type': 'Point',\n",
       "  'coordinates': [-73.93807411193848, 40.79142677512476]},\n",
       " 'type': 'Feature',\n",
       " 'properties': {'id': '368',\n",
       "  'name': '1 Ave @ 110 St',\n",
       "  'url': 'https://jpg.nyctmc.org/cctv261.jpg',\n",
       "  'icon': 'assets/camera.png'}}"
      ]
     },
     "execution_count": 21,
     "metadata": {},
     "output_type": "execute_result"
    }
   ],
   "source": [
    "features[0]"
   ]
  },
  {
   "cell_type": "code",
   "execution_count": 22,
   "metadata": {},
   "outputs": [],
   "source": [
    "# saving feature list as a feature collection for the geojson file\n",
    "feature_collection = FeatureCollection(features)\n",
    "\n",
    "# writing out file\n",
    "with open('assets/data.geojson', 'w') as f:\n",
    "   dump(feature_collection, f)"
   ]
  },
  {
   "cell_type": "code",
   "execution_count": null,
   "metadata": {},
   "outputs": [],
   "source": []
  }
 ],
 "metadata": {
  "kernelspec": {
   "display_name": "Python 3",
   "language": "python",
   "name": "python3"
  },
  "language_info": {
   "codemirror_mode": {
    "name": "ipython",
    "version": 3
   },
   "file_extension": ".py",
   "mimetype": "text/x-python",
   "name": "python",
   "nbconvert_exporter": "python",
   "pygments_lexer": "ipython3",
   "version": "3.7.4"
  }
 },
 "nbformat": 4,
 "nbformat_minor": 4
}
